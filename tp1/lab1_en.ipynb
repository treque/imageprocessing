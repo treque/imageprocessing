{
 "cells": [
  {
   "cell_type": "markdown",
   "metadata": {},
   "source": [
    "# First session\n",
    "Goal: Analyze 1D signals in both temporal and spectral domains.\n",
    "\n",
    "\n",
    "**Due date**: \n",
    "\n",
    "Assignment due date is for Monday September 28th, at 11h59 PM. A 3 points penalty per day will be applied in case of delay.\n",
    "\n",
    "**Submission files** :\n",
    "\n",
    "All code must be contained in the present template, as well as the answers to the questions (either commented within the code or with special Markdown/text cells).\n",
    "Please follow the order of the subject.\n",
    "Commenting the code is important and the overall clarity of the work will be taken in account. Make sure that every variable is clearly understandable and every figure readable.\n",
    "\n",
    "You will also have to submit a static HTML version of this notebook *File->Download as...->HTML*. Put all your files (ipynb, html, eventually others externals ones) in a single .zip archive, named after your student number (StudentNb1_StudentNb2.zip).\n"
   ]
  },
  {
   "cell_type": "code",
   "execution_count": null,
   "metadata": {},
   "outputs": [],
   "source": [
    "## Imports\n",
    "import numpy as np\n",
    "import timeit\n",
    "import matplotlib.pyplot as plt"
   ]
  },
  {
   "cell_type": "markdown",
   "metadata": {},
   "source": [
    "## Exercise 1"
   ]
  },
  {
   "cell_type": "markdown",
   "metadata": {},
   "source": [
    "1-a) Plot the signal defined by $s(t) = \\dfrac{sin(\\pi t)}{\\pi t}$ on the interval $t \\in [-4;4]$ with a resolution of 1000 points (you are encouraged to use the function [np.linspace](https://numpy.org/doc/stable/reference/generated/numpy.linspace.html) to generate the vector $t$). Don't forget to set a title to your figure, to label the axis and set a legend (as for all figures you will have to plot for this course) !"
   ]
  },
  {
   "cell_type": "code",
   "execution_count": null,
   "metadata": {},
   "outputs": [],
   "source": [
    "## Code ##"
   ]
  },
  {
   "cell_type": "markdown",
   "metadata": {},
   "source": [
    "1-b) How is this signal called ?"
   ]
  },
  {
   "cell_type": "raw",
   "metadata": {},
   "source": []
  },
  {
   "cell_type": "markdown",
   "metadata": {},
   "source": [
    "2-a) Plot in a new single figure the following signals: \n",
    "\\begin{align*}\n",
    "s_1&=sin(t)  &s_2&=\\dfrac{\\sin(3 t)}{3} & s_3&=\\dfrac{\\sin(5 t)}{5}\n",
    "\\end{align*}\n",
    "on the interval $t \\in [-2; 2]$ with a resolution of 500 points."
   ]
  },
  {
   "cell_type": "code",
   "execution_count": null,
   "metadata": {},
   "outputs": [],
   "source": [
    "## Code ##"
   ]
  },
  {
   "cell_type": "markdown",
   "metadata": {},
   "source": [
    "3) On the same figure, plot the sum $s_1 + s_2 + s_3$. To keep the figure readable, you can plot the 3 signals using dotlines by using the argument **'--'** to the function ```plt.plot(x, ..., '--')```.\n",
    "\n",
    "Plot the sum in bold (```plt.plot(x, ..., linewidth=3)```).\n",
    "\n",
    "Don't forget to set a legend to identify each curves."
   ]
  },
  {
   "cell_type": "code",
   "execution_count": null,
   "metadata": {},
   "outputs": [],
   "source": [
    "## Code ##"
   ]
  },
  {
   "cell_type": "markdown",
   "metadata": {},
   "source": [
    "4) Plot in a new figure but on the same interval $t\\in[-2;2]$ and with the same 500 points resolution, the signal: \n",
    "\n",
    "$S_{50}(t) = \\dfrac{1}{2} + \\dfrac{2}{\\pi} \\sum_{i=0}^{50} \\dfrac{\\sin((2i+1) t)}{2i+1}$\n",
    "\n",
    "which is the adition of $\\frac{1}{2}$ et all $\\frac{2}{\\pi}\\frac{\\sin(k t)}{k}$ for all $k$ odds from $1$ to $101$"
   ]
  },
  {
   "cell_type": "code",
   "execution_count": null,
   "metadata": {},
   "outputs": [],
   "source": [
    "## Code ## "
   ]
  },
  {
   "cell_type": "markdown",
   "metadata": {},
   "source": [
    "Try again but for $i$ from $0$ to $500$ ($k$ from $1$ to $1001$). On the given interval, what remarkable signals seems to be approximated by this sum of sinus functions?"
   ]
  },
  {
   "cell_type": "code",
   "execution_count": null,
   "metadata": {},
   "outputs": [],
   "source": [
    "## Code ##"
   ]
  },
  {
   "cell_type": "raw",
   "metadata": {},
   "source": []
  },
  {
   "cell_type": "markdown",
   "metadata": {},
   "source": [
    "## Exercise 2"
   ]
  },
  {
   "cell_type": "markdown",
   "metadata": {},
   "source": [
    "Given the following analogical signal $Y(t)$ :\n",
    "\n",
    "\\begin{align}\n",
    "Y(t) = 2\\sin( 165\\pi t ) + 13\\cos( 6\\pi t ) - 3\\cos( 80\\pi t )\n",
    "\\end{align}\n",
    "\n",
    "1) Determine theoritically the frequencies that compose this signal."
   ]
  },
  {
   "cell_type": "raw",
   "metadata": {},
   "source": []
  },
  {
   "cell_type": "markdown",
   "metadata": {},
   "source": [
    "2) Plot the signal $Y(t)$ for $0 \\leq t \\leq 1$ with a sampling rate $F_e$ of 20Hz, 75Hz, 100Hz, 160Hz, 180 Hz et 330Hz. Use the function [plt.subplots](https://matplotlib.org/api/_as_gen/matplotlib.pyplot.subplots.html) in order to setup multiples axes (sharing the same x-axis) and draw them one above each other. Add a title to the figure, label to axis. You can use ylim to control the scale of the y-axis."
   ]
  },
  {
   "cell_type": "code",
   "execution_count": null,
   "metadata": {},
   "outputs": [],
   "source": [
    "## Code ##"
   ]
  },
  {
   "cell_type": "markdown",
   "metadata": {},
   "source": [
    "3) How does the sampling rate affect the shape of the signal?"
   ]
  },
  {
   "cell_type": "raw",
   "metadata": {},
   "source": []
  },
  {
   "cell_type": "markdown",
   "metadata": {},
   "source": [
    "4) Among the proposed sampling rates, which ones satisfy the Nyquist-Shannon theorem? In practise, what trade-off must we do when chosing a sampling rate ?"
   ]
  },
  {
   "cell_type": "raw",
   "metadata": {},
   "source": []
  },
  {
   "cell_type": "markdown",
   "metadata": {},
   "source": [
    "## Exercise 3"
   ]
  },
  {
   "cell_type": "markdown",
   "metadata": {},
   "source": [
    "Given the following three signals $Y_1(t)$, $Y_2(t)$ et $Y_3(t)$ :\n",
    "\\begin{align*}\n",
    "Y_1(t) &= 7 \\sin( 2\\pi\\times10 t )\\\\\n",
    "Y_2(t) &= 4 \\sin( 2\\pi\\times25 t + \\frac{\\pi}{3})\\\\\n",
    "Y_3(t) &= 3 \\cos( 2\\pi\\times50 t )\n",
    "\\end{align*}\n",
    "\n",
    "They are sampled at a frequency $F_e = 250$Hz and observed in the interval: \n",
    "\\begin{align*} 0 \\leq t \\leq 1 \\end{align*}"
   ]
  },
  {
   "cell_type": "markdown",
   "metadata": {},
   "source": [
    "1) Plot the three signals $Y_1(t)$, $Y_2(t)$ et $Y_3(t)$."
   ]
  },
  {
   "cell_type": "code",
   "execution_count": null,
   "metadata": {},
   "outputs": [],
   "source": [
    "## Code ##"
   ]
  },
  {
   "cell_type": "markdown",
   "metadata": {},
   "source": [
    "2) Graphically, find the period of each signal. Compare your observation with the theorical value."
   ]
  },
  {
   "cell_type": "raw",
   "metadata": {},
   "source": []
  },
  {
   "cell_type": "markdown",
   "metadata": {},
   "source": [
    "3-a) Plot the composite signal $Z(t)=Y_1(t) + Y_2(t) + Y_3(t)$. "
   ]
  },
  {
   "cell_type": "code",
   "execution_count": null,
   "metadata": {},
   "outputs": [],
   "source": [
    "## Code ##"
   ]
  },
  {
   "cell_type": "markdown",
   "metadata": {},
   "source": [
    "3-b) Graphically, what seems to be the frequency of $Z(t)$? Determine its value analytically knowing that the frequency of a composite signal is equal to the largest divider of the frequencies that constitute the signal."
   ]
  },
  {
   "cell_type": "raw",
   "metadata": {},
   "source": []
  },
  {
   "cell_type": "markdown",
   "metadata": {},
   "source": [
    "4) Calculate the Fast Fourier Transform (FFT) of the signals $Y_1(t)$, $Y_2(t)$ and $Y_3(t)$ using the function [np.fft.fft](https://numpy.org/doc/stable/reference/generated/numpy.fft.fft.html) and plot the spectrum of each. What do you observe?"
   ]
  },
  {
   "cell_type": "code",
   "execution_count": null,
   "metadata": {},
   "outputs": [],
   "source": [
    "## Code ##"
   ]
  },
  {
   "cell_type": "markdown",
   "metadata": {},
   "source": [
    "5) Calculate the FFT of the composite signal composite plot its spectrum. What do you see?"
   ]
  },
  {
   "cell_type": "raw",
   "metadata": {},
   "source": []
  },
  {
   "cell_type": "markdown",
   "metadata": {},
   "source": [
    "6) The discrete Fourier Transform (TFD) of a s signal s(n) with N samples is defined by:\n",
    "\\begin{align}\n",
    "S[k] = \\sum_{n=0}^{N-1} s(n)e^{-2i\\pi n k/N}\n",
    "\\end{align} pour $0 \\leq k < N$.\n",
    "So far, you have used the fft function (*Fast Fourier Transform*) provided by *numpy*, which is nothing more than a computational improvement of the TFD. But is it really faster? We'll compare it to a raw implementation of the TFD. \n",
    "Complete the following code, computing the TFD of a signal s:\n",
    "```python\n",
    "def tfd(s):\n",
    "    N = len(s)\n",
    "    S = np.zeros(N, dtype=complex)\n",
    "    n = np.arange(0, N)\n",
    "    exp_basis = np.exp(-2j*np.pi*n/N)\n",
    "    for k in range(N):\n",
    "        \n",
    "        S[k] = np.sum(...)\n",
    "    \n",
    "    return S\n",
    "```\n",
    "\n",
    "Compare its output with the one from the fft on the composite signal by plotting its spectrum with your TFD."
   ]
  },
  {
   "cell_type": "code",
   "execution_count": null,
   "metadata": {},
   "outputs": [],
   "source": [
    "## Code ##"
   ]
  },
  {
   "cell_type": "markdown",
   "metadata": {},
   "source": [
    "7) Using the [timeit](https://docs.python.org/3/library/timeit.html) package, compare the execution time of  np.fft.fft and your tdf function, on 100 iterations. Take example on the following code. What do you conclude?\n",
    "```python\n",
    "time = timeit.timeit(lambda:my_function(args), n=nb_iterations) # To adjust\n",
    "```"
   ]
  },
  {
   "cell_type": "code",
   "execution_count": 1,
   "metadata": {},
   "outputs": [],
   "source": [
    "## Code ##"
   ]
  },
  {
   "cell_type": "raw",
   "metadata": {},
   "source": []
  },
  {
   "cell_type": "markdown",
   "metadata": {},
   "source": [
    "# Session 2\n",
    "## Exercise 4\n",
    "*This exercise gives you more chance to interpretate your results, analyze and discuss them!*"
   ]
  },
  {
   "cell_type": "markdown",
   "metadata": {},
   "source": [
    "A mysterioux audio signal has been found after a maintenance of Moodle servers. However, it's seems to be almost inaudible, as if a teaching-assitant had purposefully added some parasites signals...\n",
    "\n",
    "Not a big deal, you will your signal processing expertise to fix the signal!"
   ]
  },
  {
   "cell_type": "markdown",
   "metadata": {},
   "source": [
    "## Imports"
   ]
  },
  {
   "cell_type": "code",
   "execution_count": 2,
   "metadata": {},
   "outputs": [],
   "source": [
    "import IPython.display as ipd\n",
    "import scipy.io.wavfile as wavfile\n",
    "from scipy.signal import firwin, lfilter, freqz"
   ]
  },
  {
   "cell_type": "markdown",
   "metadata": {},
   "source": [
    "1) Load the file *audio.wav* using the function [scipy.io.wavfile.read](https://docs.scipy.org/doc/scipy-0.14.0/reference/generated/scipy.io.wavfile.read.html). \n",
    "It outputs two variable: the sampling rate and the actual signal.\n",
    "\n",
    "you can directly listen the signal in the notebook using [IPython.display.Audio](https://ipython.org/ipython-doc/3/api/generated/IPython.display.html). \n",
    " \n",
    "```python\n",
    "ipd.Audio(signal, rate=sample_rate)\n",
    "```\n",
    "By ear, find the disturbance(s) of the main melody. For each one that you identify, precise if it is rather high or low frequency."
   ]
  },
  {
   "cell_type": "code",
   "execution_count": null,
   "metadata": {},
   "outputs": [],
   "source": [
    "## Code ##"
   ]
  },
  {
   "cell_type": "raw",
   "metadata": {},
   "source": []
  },
  {
   "cell_type": "markdown",
   "metadata": {},
   "source": [
    "2) Compute and plot the spectrum of the signal. Don't forget to add the title and the labels to the axis."
   ]
  },
  {
   "cell_type": "code",
   "execution_count": null,
   "metadata": {},
   "outputs": [],
   "source": [
    "## Code ##"
   ]
  },
  {
   "cell_type": "markdown",
   "metadata": {},
   "source": [
    "Which musical note (C, D, E, F, G, A or B) correspond to the disurbances? Use [the Wikipédia page](http://fr.wikipedia.org/wiki/Note_de_musique) and the plotted spectrum to answer."
   ]
  },
  {
   "cell_type": "raw",
   "metadata": {},
   "source": []
  },
  {
   "cell_type": "markdown",
   "metadata": {},
   "source": [
    "3) To filter the highest-frequency disturbance, you will have to conceive a low-pass filter. As seen in course, a filter is defined by multiples parameters: its cutoff frequency, its order and the type of window it uses.\n",
    "Recall the definition of the cutoff frequency."
   ]
  },
  {
   "cell_type": "raw",
   "metadata": {},
   "source": []
  },
  {
   "cell_type": "markdown",
   "metadata": {},
   "source": [
    "4) Using the functions [scipy.signal.firwin](https://docs.scipy.org/doc/scipy/reference/generated/scipy.signal.firwin.html) and [scipy.signal.lfilter](https://docs.scipy.org/doc/scipy/reference/generated/scipy.signal.lfilter.html), build a low-pass filter with an order of 128 to filter the high-frequency parasite. \n",
    "Given the definition stated previously, how to choose the right cutoff frequency?\n",
    "Filter the signal and describe what you hear. Do not hesitate to play on the cutoff frequency to observe its effect.\n",
    "What happens if it is too high? What if it is too low? What type of filter would be more appropriate for the disturbance considered?"
   ]
  },
  {
   "cell_type": "code",
   "execution_count": null,
   "metadata": {},
   "outputs": [],
   "source": [
    "## Code ##"
   ]
  },
  {
   "cell_type": "raw",
   "metadata": {},
   "source": []
  },
  {
   "cell_type": "markdown",
   "metadata": {},
   "source": [
    "5) Build three high-pass filters of order 128 and with a cutoff frequncy of 750 Hz using the following windows : Chebyshev, Hamming and Blackman. For Chebyshev window, use an attenuation of 30 dB."
   ]
  },
  {
   "cell_type": "code",
   "execution_count": 3,
   "metadata": {},
   "outputs": [],
   "source": [
    "## Code ##"
   ]
  },
  {
   "cell_type": "markdown",
   "metadata": {},
   "source": [
    "6) Plot, for each filter, its frequency response  using the function [scipy.signal.freqz](https://docs.scipy.org/doc/scipy/reference/generated/scipy.signal.freqz.html). On each graph, draw a vertical line passing through the cutoff frequency. You can use the following function for that:\n",
    "```python\n",
    "plt.axvline(freq_coupure, color='r', linewidth=2)\n",
    "```\n",
    "At which point does this line cross the frequency response curve? Was it foreseeable?"
   ]
  },
  {
   "cell_type": "code",
   "execution_count": null,
   "metadata": {},
   "outputs": [],
   "source": [
    "## Code ##"
   ]
  },
  {
   "cell_type": "raw",
   "metadata": {},
   "source": []
  },
  {
   "cell_type": "markdown",
   "metadata": {},
   "source": [
    "7) Filter again the audio signal (already low-pass filtered) using the three high-pass filters. Can you catch a difference by the listening the three different results? For the high-pass filter, what tradeoff can you make on the filtered signal by varying the cutoff frequency ?"
   ]
  },
  {
   "cell_type": "code",
   "execution_count": null,
   "metadata": {},
   "outputs": [],
   "source": [
    "## Code ##"
   ]
  },
  {
   "cell_type": "raw",
   "metadata": {},
   "source": []
  },
  {
   "cell_type": "markdown",
   "metadata": {},
   "source": [
    "8) Calculez les TFD des signaux filtrés avec les trois filtres et affichez les spectres. Est-ce que les spectres, au niveau des basses fréquences, correspondent à ce que vous avez entendu?"
   ]
  },
  {
   "cell_type": "code",
   "execution_count": null,
   "metadata": {},
   "outputs": [],
   "source": [
    "## Code ##"
   ]
  },
  {
   "cell_type": "raw",
   "metadata": {},
   "source": []
  },
  {
   "cell_type": "code",
   "execution_count": null,
   "metadata": {},
   "outputs": [],
   "source": []
  }
 ],
 "metadata": {
  "kernelspec": {
   "display_name": "Python 3",
   "language": "python",
   "name": "python3"
  },
  "language_info": {
   "codemirror_mode": {
    "name": "ipython",
    "version": 3
   },
   "file_extension": ".py",
   "mimetype": "text/x-python",
   "name": "python",
   "nbconvert_exporter": "python",
   "pygments_lexer": "ipython3",
   "version": "3.7.7"
  }
 },
 "nbformat": 4,
 "nbformat_minor": 2
}
