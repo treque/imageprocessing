{
 "cells": [
  {
   "cell_type": "markdown",
   "metadata": {},
   "source": [
    "Group:\n",
    "\n",
    "1) Last Name, First Name, Student Number:\n",
    "\n",
    "2) Last Name, First Name, Student Number:\n"
   ]
  },
  {
   "cell_type": "markdown",
   "metadata": {},
   "source": [
    "Goal: Learn how to manipulate 2D signals (=images) in both spectral and spatial domain.\n",
    "\n",
    "**Due date**: \n",
    "\n",
    "Assignment due date is for Monday November 2nd, at 11h55 PM. A 3 points penalty per day will be applied in case of delay.\n",
    "\n",
    "**Submission files** :\n",
    "\n",
    "All code must be contained in the present template, as well as the answers to the questions (either commented within the code or with special Markdown/text cells).\n",
    "Please follow the order of the subject.\n",
    "Commenting the code is important and the overall clarity of the work will be taken in account. Make sure that every variable is clearly understandable and every figure readable.\n",
    "\n",
    "You will also have to submit a static **HTML** version of this notebook *File->Download as...->HTML*. Put all your files (ipynb, html, eventually others externals ones) in a single **.zip** archive, named after your student number (StudentNb1_StudentNb2.zip).\n"
   ]
  },
  {
   "cell_type": "markdown",
   "metadata": {},
   "source": [
    "# First session: Spatial filtering\n",
    "\n",
    "**Note:** In your algorithms, take a special attention to the datatype of your arrays (*np.uint8*, *np.float32*, etc.). For image processing, it is probably going to be convenient to cast your arrays into  *np.float32*, then cast them back to *np.uint8* to display them.\n",
    "\n",
    "**Note 2:** We highly recommand to use the *imshow* feature in the following way:\n",
    "    \n",
    "```python\n",
    "    plt.imshow(mon_img, vmin=0, vmax=255)\n",
    "    # ou bien\n",
    "    ax.imshow(mon_img, vmin=0, vmax=255)\n",
    "```\n",
    "This forces matplotlib to interpretate values below or equal to 0 as black and values above or equal to 255 as white ([0, 255] being the possible value range in uint8). If you want to display images which values are between [0,1], you'll have to change *vmin* and *vmax* accordingly."
   ]
  },
  {
   "cell_type": "code",
   "execution_count": 1,
   "metadata": {},
   "outputs": [],
   "source": [
    "import cv2\n",
    "import numpy as np\n",
    "import matplotlib.pyplot as plt\n",
    "plt.rcParams['image.cmap'] = 'gray' # Changing the default colormap, do not modify this.\n",
    "import matplotlib\n",
    "matplotlib.rcParams['figure.figsize'] = (15.0, 10.0) # Default figure size, you can modify this if you need to."
   ]
  },
  {
   "cell_type": "markdown",
   "metadata": {},
   "source": [
    "## Exercice 1 - Image Quality Enhancement\n",
    "The goal of this exercise is to correct a heavily corrupted image. In order to do so, you will have to code a few of the filters you've seen in class.\n",
    "\n",
    "### Question 1 (1.5 points)\n",
    "Load the image *TempsModernes.jpeg* by using the function:\n",
    "```python\n",
    "    img = cv2.imread(filename, cv2.IMREAD_GRAYSCALE)\n",
    "```\n",
    "(a) Display the image. As you can notice, it is very dark and has a very low contrast. Next to the image, plot the histogram of the image. You can use the code given in the next cell to do so. \n",
    "\n",
    "(b) We will fix the image's exposure and contrast by coding histogram equalization as seen in class.\n",
    "Complete the following code:\n",
    "```python\n",
    "def equalize_histogram(img):\n",
    "    imegale = np.zeros(img.shape)\n",
    "    hist, bins = np.histogram(img, 256,[0,256])\n",
    "    hist = hist.astype(np.float32)\n",
    "    ...\n",
    "```\n",
    "Display the equalized image as well as its histogram. What do you observe?"
   ]
  },
  {
   "cell_type": "code",
   "execution_count": 2,
   "metadata": {},
   "outputs": [],
   "source": [
    "def plot_histogram(img, ax=None):\n",
    "    \"\"\"\n",
    "    param img: image as a np.ndarray, which values are between [0,255]\n",
    "    param ax: (optional) matplotlib axe on which the histogram will be plotted. \n",
    "    If not provided, a new axe will be created.\n",
    "    \"\"\"\n",
    "    hist, bins = np.histogram(img, 256,[0,256])\n",
    "    if ax is not None:\n",
    "        ax.bar(bins[:-1], hist)\n",
    "    else:\n",
    "        plt.bar(bins[:-1], hist)\n",
    "        plt.show()"
   ]
  },
  {
   "cell_type": "code",
   "execution_count": null,
   "metadata": {
    "scrolled": false
   },
   "outputs": [],
   "source": []
  },
  {
   "cell_type": "markdown",
   "metadata": {},
   "source": [
    "### Question 2 (1 point)\n",
    "After the equalization process, what noise type seems predominant in the image? Explain why a median filter is well suited to remove it. Try it by filtering the image with a filter size of 5.\n"
   ]
  },
  {
   "cell_type": "code",
   "execution_count": null,
   "metadata": {},
   "outputs": [],
   "source": []
  },
  {
   "cell_type": "markdown",
   "metadata": {},
   "source": [
    "### Question 3 (1,5 points)\n",
    "For the next step, you will have to use filtering by 2D convolution. Implement the function *conv2d* which takes an image and a mask as parameters and outputs the 2D convolution of both. You are only allowed to use matrix operators and maximum 2 *for* loops. You are not allowed to use any kind of already existing convolution function. But in order to maintain the same image size between the input and the output, you will have to do some **0-padding**. For that, you can take inspiration from the following code (to be completed). You can safely assume that the convolution mask is always going to be squared and its size odd.\n",
    "```python\n",
    "def conv2d(img, mask):\n",
    "    out = np.zeros(img.shape, dtype=np.float32)\n",
    "    size_mask = mask.shape[0]\n",
    "    pad_values = ...\n",
    "    img = np.pad(img, ((pad_values, pad_values), (pad_values, pad_values)))\n",
    "    for i, row in enumerate(out):\n",
    "        for j, col in enumerate(row):\n",
    "            out[i, j] = ...\n",
    "    return out\n",
    "\n",
    "```\n",
    "\n",
    "Try out your code by filtering your median-filtered image with the following gaussian mask:\n",
    "```python\n",
    "mask = np.asarray([[1,2,1,2,1],[2,4,8,4,2],[1,8,18,8,1],[2,4,8,4,2],[1,2,1,2,1]])/90\n",
    "```\n",
    "And display the result. Whad do you observe?"
   ]
  },
  {
   "cell_type": "code",
   "execution_count": null,
   "metadata": {
    "scrolled": false
   },
   "outputs": [],
   "source": []
  },
  {
   "cell_type": "markdown",
   "metadata": {},
   "source": [
    "### Question 4 (1 point)\n",
    "We will now fix the effect of the previous gaussian filter by implementing an edge-enhancement filter. To do so, we will use the  Laplacian of the image:\n",
    "$\\Delta(I)$. \n",
    "Implement your filter following the two following steps:\n",
    "1. A low band filter gaussian filter is applied: $I_g = G * I$\n",
    "2. $I_r = I_g + k\\times \\Delta(I_g)$ \n",
    "where $k$ is a constant you'll tune to obtain the best result.\n",
    "As a reminder, the Laplacian can be easily obtained using a convolution with the following mask :\n",
    "```python\n",
    "mask_laplacian = np.asarray([[-1,-1,-1], [-1,8,-1], [-1,-1,-1]])\n",
    "```\n",
    "For the Gaussian filter, use the mask:\n",
    "```python\n",
    "mask_gaussian = np.asarray([[1,2,1], [2,4,2], [1,2,1]])\n",
    "```\n"
   ]
  },
  {
   "cell_type": "code",
   "execution_count": null,
   "metadata": {
    "scrolled": false
   },
   "outputs": [],
   "source": []
  },
  {
   "cell_type": "markdown",
   "metadata": {},
   "source": [
    "## Exercice 2 - Coin counter"
   ]
  },
  {
   "cell_type": "markdown",
   "metadata": {},
   "source": [
    "You are now in charge of coding a coin counter. Since Canadian coins are mostly round, it's the perfect opportunity for you to test your knowledge in morphological filtering.\n",
    "\n",
    "**Note**: There is an excellent [tutorial](https://opencv-python-tutroals.readthedocs.io/en/latest/py_tutorials/py_imgproc/py_morphological_ops/py_morphological_ops.html) on morphological operators with *opencv-cv* that we highly recommend you to read.\n",
    "\n",
    "### Question 1 (0,5 point)\n",
    "Load the file **pieces.jpg** in grayscale. Display the image.\n"
   ]
  },
  {
   "cell_type": "code",
   "execution_count": null,
   "metadata": {},
   "outputs": [],
   "source": []
  },
  {
   "cell_type": "markdown",
   "metadata": {},
   "source": [
    "### Question 2 (0,5 point)\n",
    "Implement the function\n",
    "```python\n",
    "def binarize(img, threshold):\n",
    "    ...\n",
    "```\n",
    "that sets to 0 all pixels below a given threshold and to 255 all the others. This function takes an image and a threshold as parameters and outputs the thresholded image. Binarize your image with a threshold at 250. Of course, since we want to count the coins, they'll have to appear in white and you will have to invert the colors of your resulting binary image. Display it.\n"
   ]
  },
  {
   "cell_type": "code",
   "execution_count": null,
   "metadata": {},
   "outputs": [],
   "source": []
  },
  {
   "cell_type": "markdown",
   "metadata": {},
   "source": [
    "### Question 3 (1 point)\n",
    "With the given threshold, small holes appears in your coins. Do a morphological closing in order to remove them, without modifying much the size of the coins. You will have to choose the approxiate structuring element. Display the result."
   ]
  },
  {
   "cell_type": "code",
   "execution_count": null,
   "metadata": {},
   "outputs": [],
   "source": []
  },
  {
   "cell_type": "markdown",
   "metadata": {},
   "source": [
    "### Question 4 (3 points)\n",
    "Implement the function:\n",
    "```python\n",
    "def count_coins(img_bin):\n",
    "    ...\n",
    "```\n",
    " which counts the total number of coins using erosion or dilation. The output of the function should be their sum in dollars.\n",
    " Here are some disk radius that might serve you : 200, 140, 120, 110, 90 (there are no coins of 1 dollar, 50 cents and 1 cent in the image). \n",
    "\n",
    "To count the number of connected components in an image, you can use the following function:\n",
    "```python\n",
    "def nb_components(img_bin):\n",
    "    num_labels, labels_im = cv2.connectedComponents(img_bin)\n",
    "    return num_labels-1 # We remove 1 because the background is considered as one connected component\n",
    "```"
   ]
  },
  {
   "cell_type": "code",
   "execution_count": null,
   "metadata": {
    "scrolled": false
   },
   "outputs": [],
   "source": []
  },
  {
   "cell_type": "markdown",
   "metadata": {},
   "source": [
    "# Séance 2: Fourier Transform and Spectral Filtering\n",
    "## Exercise 3 2D FFT\n",
    "The goal of this exercise is to familiarize yourself with the 2D-Fourier transform and some of its properties.\n",
    "\n",
    "We are going to study the function:\n",
    "$f(x, y) = \\sin(\\frac{2\\pi}{256}[f_1 x+f_2 y] ) \\text{  with  } x, y \\in [0, 256]$\n",
    "\n",
    "### Question 1 (1 point)\n",
    "Create the function:\n",
    "```python\n",
    "def f(f1, f2):\n",
    "    ...\n",
    "```\n",
    "that takes $\\{f_1, f_2\\}$ as parameters and outputs a monochromatic image of size 256x256. We highly suggest you to reead the documention of the function [np.meshgrid](https://numpy.org/doc/stable/reference/generated/numpy.meshgrid.html) for an efficient implementation (without *for* loop)."
   ]
  },
  {
   "cell_type": "code",
   "execution_count": null,
   "metadata": {},
   "outputs": [],
   "source": []
  },
  {
   "cell_type": "markdown",
   "metadata": {},
   "source": [
    "### Question 2 (1,5 points)\n",
    "For each of the following couple of parameters, display on adjancent axes the image $f(x, y)$ and its spectre (amplitude of the Fourier Transform). \n",
    "\n",
    "$\\{f_1, f_2\\}=$\n",
    "1. \\{12, 0\\}\n",
    "2. \\{0, 12\\}\n",
    "2. \\{12, 12\\}\n",
    "1. \\{12, 32\\}\n",
    "1. \\{32, -32\\}\n",
    "\n",
    "You'll have to do the computation of the spectre within a function:\n",
    "```python\n",
    "def fft_spectre(img):\n",
    "    ...\n",
    "```\n",
    "that takes an image as a parameter and outputs the normalized spectre such that its maximal value is 1 and its minimal value is 0. Use the functions [np.fft.fft2](https://numpy.org/doc/stable/reference/generated/numpy.fft.fft2.html#numpy.fft.fft2) and [np.fft.fftshift](https://numpy.org/doc/stable/reference/generated/numpy.fft.fftshift.html#numpy.fft.fftshift).\n",
    "For the normalization, you can use the following relation:\n",
    "$f_{normalisée} = \\frac{f-\\min(f)}{\\max(f)-\\min(f)}$\n",
    "**Note:** Do not forget to add a title to all your figures to make them easily identifiable!"
   ]
  },
  {
   "cell_type": "code",
   "execution_count": null,
   "metadata": {
    "scrolled": false
   },
   "outputs": [],
   "source": []
  },
  {
   "cell_type": "markdown",
   "metadata": {},
   "source": [
    "### Question 3 (1 point)\n",
    "Complete the following sentences, using your observations from previous questions about the properties of the Fourier Transform."
   ]
  },
  {
   "cell_type": "code",
   "execution_count": 3,
   "metadata": {},
   "outputs": [
    {
     "name": "stdout",
     "output_type": "stream",
     "text": [
      "The homothetic transformation (upscaling or downscaling) of an image along a given axis leads to ... of its spectre in Fourier domain.\n",
      "Rotation by an angle alpha of an image leads to ... of its spectre in Fourier domain.\n"
     ]
    }
   ],
   "source": [
    "prop = \"The homothetic transformation (upscaling or downscaling) of an image along a given axis \\\n",
    "leads to %s of its spectre in Fourier domain.\"\n",
    "ans = \"...\" \n",
    "print(prop%ans)\n",
    "\n",
    "\n",
    "prop = \"Rotation by an angle alpha of an image \\\n",
    "leads to %s of its spectre in Fourier domain.\"\n",
    "ans = \"...\"\n",
    "print(prop%ans)"
   ]
  },
  {
   "cell_type": "markdown",
   "metadata": {},
   "source": [
    "### Question 4 (1 point)\n",
    "Given the mathematical function:\n",
    "\n",
    "$f(x, y)=\\sin(\\frac{2\\pi}{256}f_1r)$ où $r=\\sqrt{x^2+y^2} \\text{  avec  } x, y \\in [-128, 128]$\n",
    "\n",
    "Write the python fonction:\n",
    "```python\n",
    "def wave(f1):\n",
    "    ...\n",
    "```\n",
    "that takes $f_1$ as a parameter and outputs an image of size 256x256.\n",
    "\n",
    "As previsously, display on the same figure the pairs images/spectres for the following values of $f_1$:\n",
    "$f_1=\\{12,64,128,256\\}$\n",
    "What do you observe?"
   ]
  },
  {
   "cell_type": "code",
   "execution_count": null,
   "metadata": {
    "scrolled": false
   },
   "outputs": [],
   "source": []
  },
  {
   "cell_type": "markdown",
   "metadata": {},
   "source": [
    "## Exercise 4  Spectral and homomorphic filtering\n",
    "\n",
    "### Question 1 (1 point)\n",
    "A mysterious file is provided, representing a famous portrait. Unfortunately, its identification is impossible because of a double parasite signal (sinusoidal), at the frequencies of $\\pm 75$ along the each direction ($\\pm x, \\pm y$).\n",
    "\n",
    "\n",
    "\n",
    "Load the file named **imageMystere.png**, displayed it as well as its Fourier Transform..\n",
    "\n",
    "**Note:** Until now, we have only studied artificial images with a voluntarily spare spectral content. The spectre of the  mysterious image is way more dense, consequently its visualization is slightly more complicated (the many frequencies in the spectres have relatively small magnitude). To better distinguish what is going on, display the spectre in decibel:\n",
    "```python\n",
    "epsilon = 1e-7 # To avoid a log(0) error.\n",
    "plt.imshow(20*np.log10(spectre+epsilon))\n",
    "plt.show()\n",
    "```\n",
    "After a call to the fftshift function, the center of the spectre corresponds to the frequency (0,0). Verify you can see the signature of the parasites signals in the spectre."
   ]
  },
  {
   "cell_type": "code",
   "execution_count": null,
   "metadata": {},
   "outputs": [],
   "source": []
  },
  {
   "cell_type": "markdown",
   "metadata": {},
   "source": [
    "### Question 2 (2 points)\n",
    "\n",
    "We are going to eliminate the perturbations directly from the Fourier domain, by creating a filter that will be applied (through multiplication) to the fft.\n",
    "The filter will have to be conceived according to one (or multiple) Gaussian profiles, following the formula:\n",
    "\n",
    "$H(u, v) = 1-e^{-((u \\pm f)^2+(v \\pm f)^2)/\\sigma }$ where $\\sigma$ will allow to tune the selectivity of the filter and $f$ is a frequency to filter.\n",
    "\n",
    "\n",
    "Adapt this formula in order to create a mask that will allow to get rid of the perturbations.\n",
    "Display it on a figure. We will chose $\\sigma=5$. What type of filter (low-band, high-band, ...) do you recognize? Visually, what does the parameter $\\sigma$ ?"
   ]
  },
  {
   "cell_type": "code",
   "execution_count": null,
   "metadata": {},
   "outputs": [],
   "source": []
  },
  {
   "cell_type": "markdown",
   "metadata": {},
   "source": [
    "### Question 3 (1 point)\n",
    "\n",
    "Use your mask to filter the Fourier Transform (**not just the magnitude!**) and reconstruct the image using the inverse Fourier Transform [np.fft.ifft2](https://docs.scipy.org/doc/numpy-1.15.1/reference/generated/numpy.fft.ifft2.html).\n",
    "Display the reconstructed image and its spectre."
   ]
  },
  {
   "cell_type": "code",
   "execution_count": null,
   "metadata": {},
   "outputs": [],
   "source": []
  },
  {
   "cell_type": "markdown",
   "metadata": {},
   "source": [
    "### Question 4 (1,5 points)\n",
    "We recall that the definition of a homomorphic filter is $H(u, v)=(\\gamma_H-\\gamma_L)[1-e^{-c\\frac{D^2(u, v)}{D^2_0}}]+\\gamma_L$ where $D(u, v)=u^2+v^2$\n",
    "\n",
    "Implement this filter and test it with the following parameters:\n",
    "$D_0=2, \\gamma_H=2, \\gamma_L=0.5, c=1$.\n",
    "\n",
    "Don't forget that the homomorphic filter is applied on the Fourier Transform of **logarithmic** image. Thus, once the filter is applied and back to the spatial domain, don't forget to take the **exponential** of the result.\n",
    "\n",
    "\n",
    "\n",
    "Display the result (mask and filtered image) and describe the effect of the parameters $\\gamma_H, \\gamma_L$ and $D_0$."
   ]
  },
  {
   "cell_type": "code",
   "execution_count": null,
   "metadata": {},
   "outputs": [],
   "source": []
  }
 ],
 "metadata": {
  "kernelspec": {
   "display_name": "Python 3",
   "language": "python",
   "name": "python3"
  },
  "language_info": {
   "codemirror_mode": {
    "name": "ipython",
    "version": 3
   },
   "file_extension": ".py",
   "mimetype": "text/x-python",
   "name": "python",
   "nbconvert_exporter": "python",
   "pygments_lexer": "ipython3",
   "version": "3.7.7"
  }
 },
 "nbformat": 4,
 "nbformat_minor": 4
}
